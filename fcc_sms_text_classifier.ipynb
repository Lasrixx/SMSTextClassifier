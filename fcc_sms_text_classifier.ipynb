{
  "nbformat": 4,
  "nbformat_minor": 0,
  "metadata": {
    "colab": {
      "name": "fcc_sms_text_classifier.ipynb",
      "provenance": [],
      "collapsed_sections": [],
      "authorship_tag": "ABX9TyNUmmqE1dwppGOMeesY2LOr",
      "include_colab_link": true
    },
    "kernelspec": {
      "name": "python3",
      "display_name": "Python 3"
    },
    "language_info": {
      "name": "python"
    }
  },
  "cells": [
    {
      "cell_type": "markdown",
      "metadata": {
        "id": "view-in-github",
        "colab_type": "text"
      },
      "source": [
        "<a href=\"https://colab.research.google.com/github/Lasrixx/SMSTextClassifier/blob/main/fcc_sms_text_classifier.ipynb\" target=\"_parent\"><img src=\"https://colab.research.google.com/assets/colab-badge.svg\" alt=\"Open In Colab\"/></a>"
      ]
    },
    {
      "cell_type": "markdown",
      "source": [
        "In this challenge, you need to create a machine learning model that will classify SMS messages as either \"ham\" or \"spam\". A \"ham\" message is a normal message sent by a friend. A \"spam\" message is an advertisement or a message sent by a company.\n",
        "\n",
        "You should create a function called predict_message that takes a message string as an argument and returns a list. The first element in the list should be a number between zero and one that indicates the likeliness of \"ham\" (0) or \"spam\" (1). The second element in the list should be the word \"ham\" or \"spam\", depending on which is most likely.\n",
        "\n",
        "For this challenge, you will use the SMS Spam Collection dataset. The dataset has already been grouped into train data and test data.\n",
        "\n",
        "The first two cells import the libraries and data. The final cell tests your model and function. Add your code in between these cells."
      ],
      "metadata": {
        "id": "oulj3XjdOiQT"
      }
    },
    {
      "cell_type": "code",
      "source": [
        "# import libraries\n",
        "try:\n",
        "  # %tensorflow_version only exists in Colab.\n",
        "  !pip install tf-nightly\n",
        "except Exception:\n",
        "  pass\n",
        "import tensorflow as tf\n",
        "import pandas as pd\n",
        "from tensorflow import keras\n",
        "!pip install tensorflow-datasets\n",
        "import tensorflow_datasets as tfds\n",
        "import tensorflow_hub as hub\n",
        "import numpy as np\n",
        "import matplotlib.pyplot as plt\n",
        "\n",
        "print(tf.__version__)"
      ],
      "metadata": {
        "id": "zZ9AtWiHPOaj"
      },
      "execution_count": null,
      "outputs": []
    },
    {
      "cell_type": "code",
      "source": [
        "# get data files\n",
        "!wget https://cdn.freecodecamp.org/project-data/sms/train-data.tsv\n",
        "!wget https://cdn.freecodecamp.org/project-data/sms/valid-data.tsv\n",
        "\n",
        "train_file_path = \"train-data.tsv\"\n",
        "test_file_path = \"valid-data.tsv\""
      ],
      "metadata": {
        "id": "JRSRbXnIPRgX"
      },
      "execution_count": null,
      "outputs": []
    },
    {
      "cell_type": "code",
      "source": [
        "# Put files into dataframes\n",
        "train_df = pd.read_table(train_file_path, header=0, names=['label','text'])\n",
        "print(train_df)\n",
        "test_df = pd.read_table(test_file_path, header=0, names=['label','text'])\n",
        "print(test_df)"
      ],
      "metadata": {
        "colab": {
          "base_uri": "https://localhost:8080/"
        },
        "id": "c3EFPFXwPSfw",
        "outputId": "94de31d4-dee0-464e-b642-a6bd81b18bf3"
      },
      "execution_count": 3,
      "outputs": [
        {
          "output_type": "stream",
          "name": "stdout",
          "text": [
            "     label                                               text\n",
            "0      ham                           you can never do nothing\n",
            "1      ham  now u sound like manky scouse boy steve,like! ...\n",
            "2      ham  mum say we wan to go then go... then she can s...\n",
            "3      ham  never y lei... i v lazy... got wat? dat day ü ...\n",
            "4      ham  in xam hall boy asked girl tell me the startin...\n",
            "...    ...                                                ...\n",
            "4173   ham  just woke up. yeesh its late. but i didn't fal...\n",
            "4174   ham  what do u reckon as need 2 arrange transport i...\n",
            "4175  spam  free entry into our £250 weekly competition ju...\n",
            "4176  spam  -pls stop bootydelious (32/f) is inviting you ...\n",
            "4177   ham  tell my  bad character which u dnt lik in me. ...\n",
            "\n",
            "[4178 rows x 2 columns]\n",
            "     label                                               text\n",
            "0      ham         not much, just some textin'. how bout you?\n",
            "1      ham  i probably won't eat at all today. i think i'm...\n",
            "2      ham  don‘t give a flying monkeys wot they think and...\n",
            "3      ham                                who are you seeing?\n",
            "4      ham  your opinion about me? 1. over 2. jada 3. kusr...\n",
            "...    ...                                                ...\n",
            "1386   ham  true dear..i sat to pray evening and felt so.s...\n",
            "1387   ham               what will we do in the shower, baby?\n",
            "1388   ham  where are you ? what are you doing ? are yuou ...\n",
            "1389  spam  ur cash-balance is currently 500 pounds - to m...\n",
            "1390  spam  not heard from u4 a while. call 4 rude chat pr...\n",
            "\n",
            "[1391 rows x 2 columns]\n"
          ]
        }
      ]
    },
    {
      "cell_type": "code",
      "source": [
        "train_df.shape"
      ],
      "metadata": {
        "colab": {
          "base_uri": "https://localhost:8080/"
        },
        "id": "HYT4JY0UPV0V",
        "outputId": "15af5bc9-5aaf-4fad-a5f4-bd62bf476ffc"
      },
      "execution_count": 4,
      "outputs": [
        {
          "output_type": "execute_result",
          "data": {
            "text/plain": [
              "(4178, 2)"
            ]
          },
          "metadata": {},
          "execution_count": 4
        }
      ]
    },
    {
      "cell_type": "code",
      "source": [
        "# Convert ham and spam to boolean - we have been told ham is 0 and spam is 1\n",
        "train_df['label'] = train_df['label'].replace(\"ham\", 0)\n",
        "train_df['label'] = train_df['label'].replace(\"spam\", 1)\n",
        "test_df['label'] = test_df['label'].replace(\"ham\", 0)\n",
        "test_df['label'] = test_df['label'].replace(\"spam\", 1)"
      ],
      "metadata": {
        "id": "cqWWSvFEPXVB"
      },
      "execution_count": 5,
      "outputs": []
    },
    {
      "cell_type": "code",
      "source": [
        "print(train_df)"
      ],
      "metadata": {
        "colab": {
          "base_uri": "https://localhost:8080/"
        },
        "id": "-nePxJSfPY43",
        "outputId": "51a63beb-5397-4b65-e48b-e3df41c2fbe7"
      },
      "execution_count": 6,
      "outputs": [
        {
          "output_type": "stream",
          "name": "stdout",
          "text": [
            "      label                                               text\n",
            "0         0                           you can never do nothing\n",
            "1         0  now u sound like manky scouse boy steve,like! ...\n",
            "2         0  mum say we wan to go then go... then she can s...\n",
            "3         0  never y lei... i v lazy... got wat? dat day ü ...\n",
            "4         0  in xam hall boy asked girl tell me the startin...\n",
            "...     ...                                                ...\n",
            "4173      0  just woke up. yeesh its late. but i didn't fal...\n",
            "4174      0  what do u reckon as need 2 arrange transport i...\n",
            "4175      1  free entry into our £250 weekly competition ju...\n",
            "4176      1  -pls stop bootydelious (32/f) is inviting you ...\n",
            "4177      0  tell my  bad character which u dnt lik in me. ...\n",
            "\n",
            "[4178 rows x 2 columns]\n"
          ]
        }
      ]
    },
    {
      "cell_type": "code",
      "source": [
        "# Separate data and labels\n",
        "train_labels = train_df.pop('label')\n",
        "test_labels = test_df.pop('label')"
      ],
      "metadata": {
        "id": "oiJiiMQEPaTl"
      },
      "execution_count": 7,
      "outputs": []
    },
    {
      "cell_type": "code",
      "source": [
        "print(train_df)\n",
        "print(train_labels)"
      ],
      "metadata": {
        "colab": {
          "base_uri": "https://localhost:8080/"
        },
        "id": "_S0frG8zPccH",
        "outputId": "7d7deaca-3d65-433c-9c8a-2f3b44e6b17b"
      },
      "execution_count": 8,
      "outputs": [
        {
          "output_type": "stream",
          "name": "stdout",
          "text": [
            "                                                   text\n",
            "0                              you can never do nothing\n",
            "1     now u sound like manky scouse boy steve,like! ...\n",
            "2     mum say we wan to go then go... then she can s...\n",
            "3     never y lei... i v lazy... got wat? dat day ü ...\n",
            "4     in xam hall boy asked girl tell me the startin...\n",
            "...                                                 ...\n",
            "4173  just woke up. yeesh its late. but i didn't fal...\n",
            "4174  what do u reckon as need 2 arrange transport i...\n",
            "4175  free entry into our £250 weekly competition ju...\n",
            "4176  -pls stop bootydelious (32/f) is inviting you ...\n",
            "4177  tell my  bad character which u dnt lik in me. ...\n",
            "\n",
            "[4178 rows x 1 columns]\n",
            "0       0\n",
            "1       0\n",
            "2       0\n",
            "3       0\n",
            "4       0\n",
            "       ..\n",
            "4173    0\n",
            "4174    0\n",
            "4175    1\n",
            "4176    1\n",
            "4177    0\n",
            "Name: label, Length: 4178, dtype: int64\n"
          ]
        }
      ]
    },
    {
      "cell_type": "code",
      "source": [
        "# Want to partition part of the train dataset for validation purposes\n",
        "# Split the dataset into 80% train, 20% validation\n",
        "val_split = 0.2\n",
        "split_index = int(len(train_df) * val_split)\n",
        "\n",
        "print(split_index)\n",
        "\n",
        "validation_data = train_df.to_numpy()[:split_index]\n",
        "train_data = train_df.to_numpy()[split_index:]\n",
        "validation_labels = train_labels.to_numpy()[:split_index]\n",
        "train_labels = train_labels.to_numpy()[split_index:]"
      ],
      "metadata": {
        "colab": {
          "base_uri": "https://localhost:8080/"
        },
        "id": "WegOLjvVPfEJ",
        "outputId": "6cef120d-03b6-47ac-bf35-1b9525cdb30b"
      },
      "execution_count": 9,
      "outputs": [
        {
          "output_type": "stream",
          "name": "stdout",
          "text": [
            "835\n"
          ]
        }
      ]
    },
    {
      "cell_type": "code",
      "source": [
        "# Will use a pre-trained NLP model as a base then build on\n",
        "# Using tensorflow hub's google/nnlm-en-dim50-with-normalization/2 \n",
        "model = \"https://tfhub.dev/google/nnlm-en-dim50-with-normalization/2\"\n",
        "hub_layer = hub.KerasLayer(model, input_shape=[], dtype=tf.string, trainable=True)"
      ],
      "metadata": {
        "id": "Uu6QdaRnPflM"
      },
      "execution_count": null,
      "outputs": []
    },
    {
      "cell_type": "code",
      "source": [
        "# Build on the model\n",
        "model = tf.keras.Sequential()\n",
        "model.add(hub_layer)\n",
        "model.add(tf.keras.layers.Dense(8, activation='relu'))\n",
        "model.add(tf.keras.layers.Dense(1))\n",
        "\n",
        "model.summary()"
      ],
      "metadata": {
        "colab": {
          "base_uri": "https://localhost:8080/"
        },
        "id": "QezFiUC4Pg89",
        "outputId": "065afa51-c53c-4258-dc32-87e51fcef50b"
      },
      "execution_count": 11,
      "outputs": [
        {
          "output_type": "stream",
          "name": "stdout",
          "text": [
            "Model: \"sequential\"\n",
            "_________________________________________________________________\n",
            " Layer (type)                Output Shape              Param #   \n",
            "=================================================================\n",
            " keras_layer (KerasLayer)    (None, 50)                48190600  \n",
            "                                                                 \n",
            " dense (Dense)               (None, 8)                 408       \n",
            "                                                                 \n",
            " dense_1 (Dense)             (None, 1)                 9         \n",
            "                                                                 \n",
            "=================================================================\n",
            "Total params: 48,191,017\n",
            "Trainable params: 48,191,017\n",
            "Non-trainable params: 0\n",
            "_________________________________________________________________\n"
          ]
        }
      ]
    },
    {
      "cell_type": "code",
      "source": [
        "# Compile the model\n",
        "# BinaryCrossEntropy is useful for predicting probabilities \n",
        "model.compile(optimizer='adam',\n",
        "              loss=tf.losses.BinaryCrossentropy(from_logits=True),\n",
        "              metrics=[tf.metrics.BinaryAccuracy(threshold=0.0, name='accuracy')])"
      ],
      "metadata": {
        "id": "i5zFTJ5cPibb"
      },
      "execution_count": 12,
      "outputs": []
    },
    {
      "cell_type": "code",
      "source": [
        "# Train the model\n",
        "history = model.fit(train_data,\n",
        "                    train_labels,\n",
        "                    epochs=40,\n",
        "                    batch_size=512,\n",
        "                    validation_data=(validation_data, validation_labels),\n",
        "                    verbose=1)"
      ],
      "metadata": {
        "colab": {
          "base_uri": "https://localhost:8080/"
        },
        "id": "U9hlstb-Pmzo",
        "outputId": "75838c8a-ec3d-4db6-9219-88b879e481bf"
      },
      "execution_count": 13,
      "outputs": [
        {
          "output_type": "stream",
          "name": "stdout",
          "text": [
            "Epoch 1/40\n",
            "7/7 [==============================] - 7s 843ms/step - loss: 0.6651 - accuracy: 0.7410 - val_loss: 0.6404 - val_accuracy: 0.8575\n",
            "Epoch 2/40\n",
            "7/7 [==============================] - 5s 760ms/step - loss: 0.6175 - accuracy: 0.8750 - val_loss: 0.5914 - val_accuracy: 0.8826\n",
            "Epoch 3/40\n",
            "7/7 [==============================] - 5s 748ms/step - loss: 0.5670 - accuracy: 0.8887 - val_loss: 0.5409 - val_accuracy: 0.8886\n",
            "Epoch 4/40\n",
            "7/7 [==============================] - 4s 636ms/step - loss: 0.5149 - accuracy: 0.8893 - val_loss: 0.4910 - val_accuracy: 0.8898\n",
            "Epoch 5/40\n",
            "7/7 [==============================] - 4s 636ms/step - loss: 0.4641 - accuracy: 0.8917 - val_loss: 0.4418 - val_accuracy: 0.8946\n",
            "Epoch 6/40\n",
            "7/7 [==============================] - 4s 645ms/step - loss: 0.4136 - accuracy: 0.8968 - val_loss: 0.3943 - val_accuracy: 0.9018\n",
            "Epoch 7/40\n",
            "7/7 [==============================] - 4s 642ms/step - loss: 0.3654 - accuracy: 0.9055 - val_loss: 0.3494 - val_accuracy: 0.9042\n",
            "Epoch 8/40\n",
            "7/7 [==============================] - 5s 648ms/step - loss: 0.3201 - accuracy: 0.9165 - val_loss: 0.3088 - val_accuracy: 0.9162\n",
            "Epoch 9/40\n",
            "7/7 [==============================] - 4s 642ms/step - loss: 0.2794 - accuracy: 0.9348 - val_loss: 0.2726 - val_accuracy: 0.9305\n",
            "Epoch 10/40\n",
            "7/7 [==============================] - 5s 648ms/step - loss: 0.2428 - accuracy: 0.9483 - val_loss: 0.2412 - val_accuracy: 0.9437\n",
            "Epoch 11/40\n",
            "7/7 [==============================] - 4s 643ms/step - loss: 0.2110 - accuracy: 0.9578 - val_loss: 0.2140 - val_accuracy: 0.9485\n",
            "Epoch 12/40\n",
            "7/7 [==============================] - 4s 639ms/step - loss: 0.1832 - accuracy: 0.9659 - val_loss: 0.1904 - val_accuracy: 0.9593\n",
            "Epoch 13/40\n",
            "7/7 [==============================] - 4s 638ms/step - loss: 0.1592 - accuracy: 0.9743 - val_loss: 0.1701 - val_accuracy: 0.9593\n",
            "Epoch 14/40\n",
            "7/7 [==============================] - 4s 640ms/step - loss: 0.1385 - accuracy: 0.9800 - val_loss: 0.1525 - val_accuracy: 0.9641\n",
            "Epoch 15/40\n",
            "7/7 [==============================] - 5s 719ms/step - loss: 0.1208 - accuracy: 0.9847 - val_loss: 0.1376 - val_accuracy: 0.9665\n",
            "Epoch 16/40\n",
            "7/7 [==============================] - 4s 639ms/step - loss: 0.1060 - accuracy: 0.9859 - val_loss: 0.1251 - val_accuracy: 0.9713\n",
            "Epoch 17/40\n",
            "7/7 [==============================] - 4s 644ms/step - loss: 0.0933 - accuracy: 0.9883 - val_loss: 0.1146 - val_accuracy: 0.9749\n",
            "Epoch 18/40\n",
            "7/7 [==============================] - 4s 638ms/step - loss: 0.0828 - accuracy: 0.9904 - val_loss: 0.1058 - val_accuracy: 0.9784\n",
            "Epoch 19/40\n",
            "7/7 [==============================] - 4s 643ms/step - loss: 0.0739 - accuracy: 0.9916 - val_loss: 0.0985 - val_accuracy: 0.9784\n",
            "Epoch 20/40\n",
            "7/7 [==============================] - 4s 641ms/step - loss: 0.0665 - accuracy: 0.9925 - val_loss: 0.0924 - val_accuracy: 0.9784\n",
            "Epoch 21/40\n",
            "7/7 [==============================] - 4s 637ms/step - loss: 0.0601 - accuracy: 0.9934 - val_loss: 0.0874 - val_accuracy: 0.9784\n",
            "Epoch 22/40\n",
            "7/7 [==============================] - 4s 639ms/step - loss: 0.0546 - accuracy: 0.9934 - val_loss: 0.0830 - val_accuracy: 0.9796\n",
            "Epoch 23/40\n",
            "7/7 [==============================] - 4s 645ms/step - loss: 0.0499 - accuracy: 0.9937 - val_loss: 0.0794 - val_accuracy: 0.9796\n",
            "Epoch 24/40\n",
            "7/7 [==============================] - 4s 638ms/step - loss: 0.0457 - accuracy: 0.9940 - val_loss: 0.0764 - val_accuracy: 0.9796\n",
            "Epoch 25/40\n",
            "7/7 [==============================] - 4s 644ms/step - loss: 0.0420 - accuracy: 0.9943 - val_loss: 0.0737 - val_accuracy: 0.9796\n",
            "Epoch 26/40\n",
            "7/7 [==============================] - 4s 643ms/step - loss: 0.0387 - accuracy: 0.9943 - val_loss: 0.0712 - val_accuracy: 0.9808\n",
            "Epoch 27/40\n",
            "7/7 [==============================] - 4s 640ms/step - loss: 0.0358 - accuracy: 0.9943 - val_loss: 0.0691 - val_accuracy: 0.9808\n",
            "Epoch 28/40\n",
            "7/7 [==============================] - 4s 634ms/step - loss: 0.0330 - accuracy: 0.9949 - val_loss: 0.0674 - val_accuracy: 0.9808\n",
            "Epoch 29/40\n",
            "7/7 [==============================] - 4s 642ms/step - loss: 0.0306 - accuracy: 0.9952 - val_loss: 0.0659 - val_accuracy: 0.9808\n",
            "Epoch 30/40\n",
            "7/7 [==============================] - 5s 733ms/step - loss: 0.0284 - accuracy: 0.9961 - val_loss: 0.0646 - val_accuracy: 0.9808\n",
            "Epoch 31/40\n",
            "7/7 [==============================] - 4s 643ms/step - loss: 0.0264 - accuracy: 0.9961 - val_loss: 0.0635 - val_accuracy: 0.9808\n",
            "Epoch 32/40\n",
            "7/7 [==============================] - 4s 636ms/step - loss: 0.0246 - accuracy: 0.9964 - val_loss: 0.0623 - val_accuracy: 0.9808\n",
            "Epoch 33/40\n",
            "7/7 [==============================] - 4s 637ms/step - loss: 0.0229 - accuracy: 0.9964 - val_loss: 0.0613 - val_accuracy: 0.9808\n",
            "Epoch 34/40\n",
            "7/7 [==============================] - 4s 642ms/step - loss: 0.0213 - accuracy: 0.9973 - val_loss: 0.0607 - val_accuracy: 0.9808\n",
            "Epoch 35/40\n",
            "7/7 [==============================] - 4s 638ms/step - loss: 0.0200 - accuracy: 0.9973 - val_loss: 0.0601 - val_accuracy: 0.9808\n",
            "Epoch 36/40\n",
            "7/7 [==============================] - 4s 648ms/step - loss: 0.0187 - accuracy: 0.9976 - val_loss: 0.0594 - val_accuracy: 0.9796\n",
            "Epoch 37/40\n",
            "7/7 [==============================] - 4s 641ms/step - loss: 0.0175 - accuracy: 0.9982 - val_loss: 0.0590 - val_accuracy: 0.9796\n",
            "Epoch 38/40\n",
            "7/7 [==============================] - 5s 711ms/step - loss: 0.0165 - accuracy: 0.9982 - val_loss: 0.0585 - val_accuracy: 0.9796\n",
            "Epoch 39/40\n",
            "7/7 [==============================] - 4s 630ms/step - loss: 0.0155 - accuracy: 0.9988 - val_loss: 0.0582 - val_accuracy: 0.9796\n",
            "Epoch 40/40\n",
            "7/7 [==============================] - 4s 644ms/step - loss: 0.0146 - accuracy: 0.9988 - val_loss: 0.0578 - val_accuracy: 0.9808\n"
          ]
        }
      ]
    },
    {
      "cell_type": "code",
      "source": [
        "model.evaluate(test_df,test_labels)"
      ],
      "metadata": {
        "colab": {
          "base_uri": "https://localhost:8080/"
        },
        "id": "tmKViNxUPoQE",
        "outputId": "bff232e1-5e83-40d5-b21f-44c869d725a9"
      },
      "execution_count": 14,
      "outputs": [
        {
          "output_type": "stream",
          "name": "stdout",
          "text": [
            "44/44 [==============================] - 4s 76ms/step - loss: 0.0538 - accuracy: 0.9820\n"
          ]
        },
        {
          "output_type": "execute_result",
          "data": {
            "text/plain": [
              "[0.053845297545194626, 0.9820272922515869]"
            ]
          },
          "metadata": {},
          "execution_count": 14
        }
      ]
    },
    {
      "cell_type": "code",
      "source": [
        "# function to predict messages based on model\n",
        "# (should return list containing prediction and label, ex. [0.008318834938108921, 'ham'])\n",
        "def predict_message(pred_text):\n",
        "  pred = model.predict([pred_text])[0]\n",
        "  output = \"ham\"\n",
        "  if pred[0] > 0.5:\n",
        "    output = \"spam\"\n",
        "  \n",
        "  prediction = [pred[0],output]\n",
        "\n",
        "  return (prediction)\n",
        "\n",
        "pred_text = \"how are you doing today?\"\n",
        "\n",
        "prediction = predict_message(pred_text)\n",
        "print(prediction)"
      ],
      "metadata": {
        "colab": {
          "base_uri": "https://localhost:8080/"
        },
        "id": "yOPhMMw0PqpP",
        "outputId": "ff17c36c-4813-4a0e-d8f2-58f5744023f1"
      },
      "execution_count": 15,
      "outputs": [
        {
          "output_type": "stream",
          "name": "stdout",
          "text": [
            "1/1 [==============================] - 0s 177ms/step\n",
            "[-4.2621765, 'ham']\n"
          ]
        }
      ]
    },
    {
      "cell_type": "code",
      "source": [
        "# Run this cell to test your function and model. Do not modify contents.\n",
        "def test_predictions():\n",
        "  test_messages = [\"how are you doing today\",\n",
        "                   \"sale today! to stop texts call 98912460324\",\n",
        "                   \"i dont want to go. can we try it a different day? available sat\",\n",
        "                   \"our new mobile video service is live. just install on your phone to start watching.\",\n",
        "                   \"you have won £1000 cash! call to claim your prize.\",\n",
        "                   \"i'll bring it tomorrow. don't forget the milk.\",\n",
        "                   \"wow, is your arm alright. that happened to me one time too\"\n",
        "                  ]\n",
        "\n",
        "  test_answers = [\"ham\", \"spam\", \"ham\", \"spam\", \"spam\", \"ham\", \"ham\"]\n",
        "  passed = True\n",
        "\n",
        "  for msg, ans in zip(test_messages, test_answers):\n",
        "    prediction = predict_message(msg)\n",
        "    if prediction[1] != ans:\n",
        "      passed = False\n",
        "\n",
        "  if passed:\n",
        "    print(\"You passed the challenge. Great job!\")\n",
        "  else:\n",
        "    print(\"You haven't passed yet. Keep trying.\")\n",
        "\n",
        "test_predictions()"
      ],
      "metadata": {
        "colab": {
          "base_uri": "https://localhost:8080/"
        },
        "id": "bD4z3FlrP0SI",
        "outputId": "a3ef797e-b91d-4529-f588-456d983f4a66"
      },
      "execution_count": 16,
      "outputs": [
        {
          "output_type": "stream",
          "name": "stdout",
          "text": [
            "1/1 [==============================] - 0s 112ms/step\n",
            "1/1 [==============================] - 0s 103ms/step\n",
            "1/1 [==============================] - 0s 110ms/step\n",
            "1/1 [==============================] - 0s 101ms/step\n",
            "1/1 [==============================] - 0s 108ms/step\n",
            "1/1 [==============================] - 0s 111ms/step\n",
            "1/1 [==============================] - 0s 120ms/step\n",
            "You passed the challenge. Great job!\n"
          ]
        }
      ]
    }
  ]
}